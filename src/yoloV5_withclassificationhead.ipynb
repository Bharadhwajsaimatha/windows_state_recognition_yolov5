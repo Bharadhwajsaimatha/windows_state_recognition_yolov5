{
 "cells": [
  {
   "cell_type": "code",
   "execution_count": 9,
   "id": "e3f42b4b",
   "metadata": {},
   "outputs": [
    {
     "name": "stdout",
     "output_type": "stream",
     "text": [
      "[PhysicalDevice(name='/physical_device:CPU:0', device_type='CPU'), PhysicalDevice(name='/physical_device:GPU:0', device_type='GPU')]\n"
     ]
    }
   ],
   "source": [
    "#Set GPU for computation\n",
    "import tensorflow as tf\n",
    "devices = tf.config.list_physical_devices()\n",
    "print(devices)\n",
    "tf.config.set_visible_devices(devices[1], 'GPU')\n",
    "tf.config.experimental.set_memory_growth(devices[1], True)"
   ]
  },
  {
   "cell_type": "code",
   "execution_count": 10,
   "id": "dfdb4a3c",
   "metadata": {},
   "outputs": [],
   "source": [
    "#importing the image and annotations folders\n",
    "import os\n",
    "os.environ['GIT_PYTHON_GIT_EXECUTABLE'] = 'C:\\Program Files\\Git\\bin\\git.exe'\n",
    "import cv2 as cv\n",
    "import io\n",
    "import xml.etree.ElementTree as ET\n",
    "import matplotlib.pyplot as plt\n",
    "import matplotlib.patches as patch\n",
    "import pandas as pd\n",
    "import numpy as np\n",
    "\n",
    "%matplotlib inline\n",
    "\n",
    "#Plot RC\n",
    "plt.rc('figure', autolayout = True)"
   ]
  },
  {
   "cell_type": "code",
   "execution_count": 11,
   "id": "c3242ded",
   "metadata": {},
   "outputs": [
    {
     "name": "stdout",
     "output_type": "stream",
     "text": [
      "C:\\Users\\gokul\\Desktop\\CSIS_SS23\\yolov5-master\n"
     ]
    }
   ],
   "source": [
    "os.environ['GIT_PYTHON_GIT_EXECUTABLE'] = r'C:\\Program Files\\Git\\bin\\git.exe'\n",
    "\n",
    "os.environ['KMP_DUPLICATE_LIB_OK']='True'\n",
    "\n",
    "%cd C:\\Users\\gokul\\Desktop\\CSIS_SS23\\yolov5-master"
   ]
  },
  {
   "cell_type": "code",
   "execution_count": 15,
   "id": "8818eb76",
   "metadata": {},
   "outputs": [
    {
     "name": "stdout",
     "output_type": "stream",
     "text": [
      "\u001b[34m\u001b[1mgithub: \u001b[0mskipping check (not a git repository), for updates see https://github.com/ultralytics/yolov5\n"
     ]
    },
    {
     "name": "stderr",
     "output_type": "stream",
     "text": [
      "\u001b[34m\u001b[1mtrain_copy: \u001b[0mweights=yolov5s.pt, cfg=models/yolov5s_withClassify.yaml, data=data/custom_cls.yaml, hyp=data\\hyps\\hyp.scratch-low.yaml, epochs=10, batch_size=5, imgsz=640, rect=False, resume=False, nosave=False, noval=False, noautoanchor=False, noplots=False, evolve=None, bucket=, cache=ram, image_weights=False, device=0, multi_scale=False, single_cls=False, optimizer=SGD, sync_bn=False, workers=8, project=runs\\train, name=exp, exist_ok=False, quad=False, cos_lr=False, label_smoothing=0.0, patience=100, freeze=[0], save_period=-1, seed=0, local_rank=-1, entity=None, upload_dataset=False, bbox_interval=-1, artifact_alias=latest\n",
      "YOLOv5  2023-4-22 Python-3.9.16 torch-2.0.0+cu118 CUDA:0 (NVIDIA GeForce RTX 3060 Laptop GPU, 6144MiB)\n",
      "\n",
      "\u001b[34m\u001b[1mhyperparameters: \u001b[0mlr0=0.01, lrf=0.01, momentum=0.937, weight_decay=0.0005, warmup_epochs=3.0, warmup_momentum=0.8, warmup_bias_lr=0.1, box=0.05, cls=0.5, cls_pw=1.0, obj=1.0, obj_pw=1.0, iou_t=0.2, anchor_t=4.0, fl_gamma=0.0, hsv_h=0.015, hsv_s=0.7, hsv_v=0.4, degrees=0.0, translate=0.1, scale=0.5, shear=0.0, perspective=0.0, flipud=0.0, fliplr=0.5, mosaic=1.0, mixup=0.0, copy_paste=0.0\n",
      "\u001b[34m\u001b[1mClearML: \u001b[0mrun 'pip install clearml' to automatically track, visualize and remotely train YOLOv5  in ClearML\n",
      "\u001b[34m\u001b[1mComet: \u001b[0mrun 'pip install comet_ml' to automatically track and visualize YOLOv5  runs in Comet\n",
      "\u001b[34m\u001b[1mTensorBoard: \u001b[0mStart with 'tensorboard --logdir runs\\train', view at http://localhost:6006/\n",
      "\n",
      "                 from  n    params  module                                  arguments                     \n",
      "  0                -1  1      3520  models.common.Conv                      [3, 32, 6, 2, 2]              \n",
      "  1                -1  1     18560  models.common.Conv                      [32, 64, 3, 2]                \n",
      "  2                -1  1     18816  models.common.C3                        [64, 64, 1]                   \n",
      "  3                -1  1     73984  models.common.Conv                      [64, 128, 3, 2]               \n",
      "  4                -1  2    115712  models.common.C3                        [128, 128, 2]                 \n",
      "  5                -1  1    295424  models.common.Conv                      [128, 256, 3, 2]              \n",
      "  6                -1  3    625152  models.common.C3                        [256, 256, 3]                 \n",
      "  7                -1  1   1180672  models.common.Conv                      [256, 512, 3, 2]              \n",
      "  8                -1  1   1182720  models.common.C3                        [512, 512, 1]                 \n",
      "  9                -1  1    656896  models.common.SPPF                      [512, 512, 5]                 \n",
      " 10                -1  1    131584  models.common.Conv                      [512, 256, 1, 1]              \n",
      " 11                -1  1         0  torch.nn.modules.upsampling.Upsample    [None, 2, 'nearest']          \n",
      " 12           [-1, 6]  1         0  models.common.Concat                    [1]                           \n",
      " 13                -1  1    361984  models.common.C3                        [512, 256, 1, False]          \n",
      " 14                -1  1     33024  models.common.Conv                      [256, 128, 1, 1]              \n",
      " 15                -1  1         0  torch.nn.modules.upsampling.Upsample    [None, 2, 'nearest']          \n",
      " 16           [-1, 4]  1         0  models.common.Concat                    [1]                           \n",
      " 17                -1  1     90880  models.common.C3                        [256, 128, 1, False]          \n",
      " 18                -1  1    147712  models.common.Conv                      [128, 128, 3, 2]              \n",
      " 19          [-1, 14]  1         0  models.common.Concat                    [1]                           \n",
      " 20                -1  1    296448  models.common.C3                        [256, 256, 1, False]          \n",
      " 21                -1  1    590336  models.common.Conv                      [256, 256, 3, 2]              \n",
      " 22          [-1, 10]  1         0  models.common.Concat                    [1]                           \n",
      " 23                -1  1   1182720  models.common.C3                        [512, 512, 1, False]          \n",
      " 24      [17, 20, 23]  1     80910  models.yolo.Detect                      [4, [[0, 1, 2, 3, 4, 5, 6, 7, 8, 9, 10, 11, 12, 13, 14, 15, 16, 17, 18, 19], [0, 1, 2, 3, 4, 5, 6, 7, 8, 9, 10, 11, 12, 13, 14, 15, 16, 17, 18, 19], [0, 1, 2, 3, 4, 5, 6, 7, 8, 9, 10, 11, 12, 13, 14, 15, 16, 17, 18, 19]], [128, 256, 512]]\n",
      " 25                -1  1    590080  models.common.Conv                      [512, 128, 3, 2]              \n",
      " 26                -1  1         0  torch.nn.modules.pooling.AdaptiveAvgPool2d[1]                           \n",
      " 27                -1  1         0  torch.nn.modules.flatten.Flatten        []                            \n",
      " 28                -1  1     32896  torch.nn.modules.linear.Linear          [256, 128]                    \n",
      " 29                -1  1         0  torch.nn.modules.activation.ReLU        [True]                        \n",
      " 30                -1  1       516  torch.nn.modules.linear.Linear          [128, 4]                      \n",
      " 31                -1  1         0  torch.nn.modules.activation.LogSoftmax  [1]                           \n",
      "YOLOv5s_withClassify summary: 223 layers, 7710546 parameters, 7710546 gradients\n",
      "\n",
      "Transferred 342/359 items from yolov5s.pt\n",
      "\u001b[34m\u001b[1mAMP: \u001b[0mchecks failed , disabling Automatic Mixed Precision. See https://github.com/ultralytics/yolov5/issues/7908\n",
      "Traceback (most recent call last):\n",
      "  File \"C:\\Users\\gokul\\Desktop\\CSIS_SS23\\yolov5-master\\train_copy.py\", line 649, in <module>\n",
      "    main(opt)\n",
      "  File \"C:\\Users\\gokul\\Desktop\\CSIS_SS23\\yolov5-master\\train_copy.py\", line 538, in main\n",
      "    train(opt.hyp, opt, device, callbacks)\n",
      "  File \"C:\\Users\\gokul\\Desktop\\CSIS_SS23\\yolov5-master\\train_copy.py\", line 151, in train\n",
      "    current_stride = stride[0]  # Assuming stride is a list or tuple\n",
      "TypeError: 'NoneType' object is not subscriptable\n"
     ]
    }
   ],
   "source": [
    "!C:\\Users\\gokul\\.conda\\envs\\new_env_csis\\python.exe train_copy.py --img 640 --batch 5 --epochs 10 --data data/custom_cls.yaml --cfg models/yolov5s_withClassify.yaml --weights yolov5s.pt --cache --device 0"
   ]
  },
  {
   "cell_type": "code",
   "execution_count": null,
   "id": "e4c91995",
   "metadata": {},
   "outputs": [],
   "source": []
  }
 ],
 "metadata": {
  "kernelspec": {
   "display_name": "Python 3 (ipykernel)",
   "language": "python",
   "name": "python3"
  },
  "language_info": {
   "codemirror_mode": {
    "name": "ipython",
    "version": 3
   },
   "file_extension": ".py",
   "mimetype": "text/x-python",
   "name": "python",
   "nbconvert_exporter": "python",
   "pygments_lexer": "ipython3",
   "version": "3.9.16"
  }
 },
 "nbformat": 4,
 "nbformat_minor": 5
}
